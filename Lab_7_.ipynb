{
  "nbformat": 4,
  "nbformat_minor": 0,
  "metadata": {
    "colab": {
      "provenance": []
    },
    "kernelspec": {
      "name": "python3",
      "display_name": "Python 3"
    },
    "language_info": {
      "name": "python"
    }
  },
  "cells": [
    {
      "cell_type": "markdown",
      "source": [
        "**ANNs for loan prediction**"
      ],
      "metadata": {
        "id": "2DYfhxqTd7sP"
      }
    },
    {
      "cell_type": "markdown",
      "source": [
        "1. Loading the Dataset"
      ],
      "metadata": {
        "id": "0EGAfz26eHLJ"
      }
    },
    {
      "cell_type": "markdown",
      "source": [
        "**1.1 Import the necessary Python modules**"
      ],
      "metadata": {
        "id": "iECRGDUTeNkN"
      }
    },
    {
      "cell_type": "code",
      "execution_count": 2,
      "metadata": {
        "id": "W8zWmXaRd1MM"
      },
      "outputs": [],
      "source": [
        "import numpy as np # numpy is a library that allows us to work with vectors and matrices\n",
        "import matplotlib.pyplot as plt # visualisation library\n",
        "import pandas as pd # pandas is a library that allows us to work with DataFrames\n"
      ]
    },
    {
      "cell_type": "code",
      "source": [
        "from sklearn.compose import ColumnTransformer\n",
        "from sklearn.linear_model import SGDClassifier\n",
        "from sklearn.preprocessing import StandardScaler, OneHotEncoder, LabelEncoder\n",
        "from imblearn.over_sampling import RandomOverSampler\n",
        "from imblearn.pipeline import Pipeline as ImbPipeline\n",
        "from sklearn.metrics import classification_report\n",
        "from sklearn.pipeline import Pipeline\n",
        "from sklearn.ensemble import RandomForestClassifier\n",
        "from sklearn.preprocessing import OneHotEncoder\n",
        "from sklearn.impute import SimpleImputer"
      ],
      "metadata": {
        "id": "h99C96PAeWpe"
      },
      "execution_count": 3,
      "outputs": []
    },
    {
      "cell_type": "code",
      "source": [
        "from IPython.display import HTML\n",
        "def pretty_print_df(value_counts_):\n",
        "  \"\"\"\n",
        "    Quick function to display value counts more nicely.\n",
        "    It is only helpful in notebook. If working on .py script, just replace\n",
        "    with 'print'\n",
        "  \"\"\"\n",
        "  display(HTML(pd.DataFrame(value_counts_).to_html()))"
      ],
      "metadata": {
        "id": "4m4u7Ou-eai1"
      },
      "execution_count": 4,
      "outputs": []
    },
    {
      "cell_type": "markdown",
      "source": [
        "Load the data"
      ],
      "metadata": {
        "id": "espJPbtvetzy"
      }
    },
    {
      "cell_type": "code",
      "source": [
        "PY = False # change this to True if you're running the .py version of this notebook\n",
        "if not PY:\n",
        "    from google.colab import drive\n",
        "    import os\n",
        "    drive.mount('/content/drive')\n",
        "    # note: the lines below assume that the data is found in the main folder of your google drive.\n",
        "    # If that's not the case, you need to change the argument of read_csv to the full\n",
        "    # path of each dataset\n",
        "    X = pd.read_csv('/content/drive/MyDrive/Greenwich /Machine Learning/Lab 7 /Week 7 tutorials solutions comp1804/Comp1804_week7_dataset_22-23/X_train.csv')\n",
        "    Y = pd.read_csv('//content/drive/MyDrive/Greenwich /Machine Learning/Lab 7 /Week 7 tutorials solutions comp1804/Comp1804_week7_dataset_22-23/Y_train.csv')\n",
        "else:\n",
        "    # note: the lines below assume that the data is found in the same folder as this notebook.\n",
        "    # If that's not the case, you need to change the argument of read_csv to the full\n",
        "    # path of each dataset\n",
        "    X = pd.read_csv('/content/drive/MyDrive/Greenwich /Machine Learning/Lab 7 /Week 7 tutorials solutions comp1804/Comp1804_week7_dataset_22-23/X_train.csv')\n",
        "    Y = pd.read_csv('/content/drive/MyDrive/Greenwich /Machine Learning/Lab 7 /Week 7 tutorials solutions comp1804/Comp1804_week7_dataset_22-23/Y_train.csv')\n",
        "\n"
      ],
      "metadata": {
        "colab": {
          "base_uri": "https://localhost:8080/"
        },
        "id": "2sypMtNeeis5",
        "outputId": "3e9fbbe0-739d-4cf4-8534-6fedb354696e"
      },
      "execution_count": 5,
      "outputs": [
        {
          "output_type": "stream",
          "name": "stdout",
          "text": [
            "Drive already mounted at /content/drive; to attempt to forcibly remount, call drive.mount(\"/content/drive\", force_remount=True).\n"
          ]
        }
      ]
    },
    {
      "cell_type": "markdown",
      "source": [
        "**1.2.0 Dataset Split**\n",
        "\n",
        "Let's split both the input features and the labels into a training set and a test set. Scikit-learn has a helpful function for this: \"train_test_split\".\n"
      ],
      "metadata": {
        "id": "0CkaFFJDiCEe"
      }
    },
    {
      "cell_type": "code",
      "source": [
        "from sklearn.model_selection import train_test_split\n",
        "\n",
        "\n",
        "train_dataset, test_dataset, train_labels, test_labels = train_test_split(X, Y,\n",
        "                                                                          stratify = Y, #we use a stratified division to make sure we keep the same proportion of target labels in both the training and the test dataset (see data imbalance below)\n",
        "                                                                          test_size= 0.2)\n"
      ],
      "metadata": {
        "id": "Kp2gW0Q-e6JM"
      },
      "execution_count": 6,
      "outputs": []
    },
    {
      "cell_type": "markdown",
      "source": [
        "**1.2.1 Inspect Dataset**\n",
        "\n",
        "**1.2.1.1 Dimensions of Dataset**\n"
      ],
      "metadata": {
        "id": "mt1jL6dJiSMj"
      }
    },
    {
      "cell_type": "code",
      "source": [
        "# Training data\n",
        "# shape of input:\n",
        "# The number or rows is the number of data points\n",
        "# The number or columns is the number of features\n",
        "print(train_dataset.shape)\n",
        "# shape of output:\n",
        "# The number or rows is the number of data points (should be the same as before!)\n",
        "# The number or columns is the number of labels we want to predict\n",
        "print(train_labels.shape)"
      ],
      "metadata": {
        "colab": {
          "base_uri": "https://localhost:8080/"
        },
        "id": "I1nAI2y-iKOd",
        "outputId": "e2ffb609-96ce-47a6-dda2-6f06a15b1e3c"
      },
      "execution_count": 7,
      "outputs": [
        {
          "output_type": "stream",
          "name": "stdout",
          "text": [
            "(312, 12)\n",
            "(312, 1)\n"
          ]
        }
      ]
    },
    {
      "cell_type": "code",
      "source": [
        "# Test data\n",
        "# shape of input:\n",
        "# The number or rows is the number of data points\n",
        "# The number or columns is the number of features (should be the same as for the training!)\n",
        "print(test_dataset.shape)\n",
        "# shape of output:\n",
        "# The number or rows is the number of data points (should be the same as before!)\n",
        "# The number or columns is the number of labels we want to predict\n",
        "print(test_labels.shape)"
      ],
      "metadata": {
        "colab": {
          "base_uri": "https://localhost:8080/"
        },
        "id": "mTa_zbjRiZgt",
        "outputId": "f3d13ac3-b286-4ebb-ad53-57aeaf791c3d"
      },
      "execution_count": 8,
      "outputs": [
        {
          "output_type": "stream",
          "name": "stdout",
          "text": [
            "(79, 12)\n",
            "(79, 1)\n"
          ]
        }
      ]
    },
    {
      "cell_type": "code",
      "source": [
        "# list of column titles\n",
        "print(train_dataset.columns)\n",
        "print(train_labels.columns)"
      ],
      "metadata": {
        "colab": {
          "base_uri": "https://localhost:8080/"
        },
        "id": "H9xUg7aDiglC",
        "outputId": "5996adaf-2ada-4bff-cd9c-7eec4332b701"
      },
      "execution_count": 9,
      "outputs": [
        {
          "output_type": "stream",
          "name": "stdout",
          "text": [
            "Index(['Loan_ID', 'Gender', 'Married', 'Dependents', 'Education',\n",
            "       'Self_Employed', 'ApplicantIncome', 'CoapplicantIncome', 'LoanAmount',\n",
            "       'Loan_Amount_Term', 'Credit_History', 'Property_Area'],\n",
            "      dtype='object')\n",
            "Index(['Target'], dtype='object')\n"
          ]
        }
      ]
    },
    {
      "cell_type": "code",
      "source": [
        "# list of column (field) data types\n",
        "print(train_dataset.dtypes)\n",
        "print()\n",
        "print(train_labels.dtypes)\n",
        "\n",
        "# Note: object is a Pandas data type for pretty much anything that is not a number"
      ],
      "metadata": {
        "colab": {
          "base_uri": "https://localhost:8080/"
        },
        "id": "hWn4eDyIij_j",
        "outputId": "c1e034be-8fe1-4241-b2e0-ba772febe546"
      },
      "execution_count": 10,
      "outputs": [
        {
          "output_type": "stream",
          "name": "stdout",
          "text": [
            "Loan_ID               object\n",
            "Gender                object\n",
            "Married               object\n",
            "Dependents            object\n",
            "Education             object\n",
            "Self_Employed         object\n",
            "ApplicantIncome      float64\n",
            "CoapplicantIncome    float64\n",
            "LoanAmount           float64\n",
            "Loan_Amount_Term     float64\n",
            "Credit_History       float64\n",
            "Property_Area         object\n",
            "dtype: object\n",
            "\n",
            "Target    object\n",
            "dtype: object\n"
          ]
        }
      ]
    },
    {
      "cell_type": "markdown",
      "source": [
        "**1.2.1.2 Take a peek at the Dataset**\n",
        "\n",
        "Note that if you see \"NaN\", it means \"Not a Number\". It is not the same as 0. Python replaces empty/missing fields in the data with \"NaN\".\n"
      ],
      "metadata": {
        "id": "KNyEZKb6jXJb"
      }
    },
    {
      "cell_type": "code",
      "source": [
        "# you can show the first N rows in a dataframe with the function \"head\"\n",
        "print(train_dataset.head(10))\n",
        "# note how the first row has a missing value! We'll get back to it.\n",
        "# Also notice how the first two rows are almost identical, aside from the Loan_ID and the missing value\n",
        "# Could this be the same application submitted twice because the first time someone forgot to add the income?"
      ],
      "metadata": {
        "colab": {
          "base_uri": "https://localhost:8080/"
        },
        "id": "Y9FnplALjKrC",
        "outputId": "0b2969b2-6c6c-4a38-b37d-a20d3e645230"
      },
      "execution_count": 11,
      "outputs": [
        {
          "output_type": "stream",
          "name": "stdout",
          "text": [
            "      Loan_ID  Gender Married Dependents     Education Self_Employed  \\\n",
            "319  LP002364    Male     Yes          0      Graduate            No   \n",
            "279  LP002948    Male     Yes          2      Graduate            No   \n",
            "349  LP002407  Female     Yes          0  Not Graduate           Yes   \n",
            "343  LP001698    Male      No          0  Not Graduate            No   \n",
            "93   LP001493    Male     Yes          2  Not Graduate            No   \n",
            "17   LP002789    Male     Yes          0      Graduate            No   \n",
            "313  LP001963    Male     Yes          1      Graduate            No   \n",
            "90   LP001199    Male     Yes          2  Not Graduate            No   \n",
            "249  LP002328    Male     Yes          0  Not Graduate            No   \n",
            "76   LP002840  Female      No          0      Graduate            No   \n",
            "\n",
            "     ApplicantIncome  CoapplicantIncome  LoanAmount  Loan_Amount_Term  \\\n",
            "319          14880.0                0.0        96.0             360.0   \n",
            "279           5780.0                0.0       192.0             360.0   \n",
            "349           7142.0                0.0       138.0             360.0   \n",
            "343           3975.0             2531.0        55.0             360.0   \n",
            "93            4200.0             1430.0       129.0             360.0   \n",
            "17            3593.0             4266.0       132.0             180.0   \n",
            "313           2014.0             2925.0       113.0             360.0   \n",
            "90            3357.0             2859.0       144.0             360.0   \n",
            "249           6096.0                0.0       218.0             360.0   \n",
            "76            2378.0                0.0         9.0             360.0   \n",
            "\n",
            "     Credit_History Property_Area  \n",
            "319             1.0     Semiurban  \n",
            "279             1.0         Urban  \n",
            "349             1.0         Rural  \n",
            "343             1.0         Rural  \n",
            "93              1.0         Rural  \n",
            "17              0.0         Rural  \n",
            "313             1.0         Urban  \n",
            "90              1.0         Urban  \n",
            "249             0.0         Rural  \n",
            "76              1.0         Urban  \n"
          ]
        }
      ]
    },
    {
      "cell_type": "code",
      "source": [
        "# Let's print the percentage or target categories in both the training and test dataset\n",
        "# printing the percentage means we can compare whether the two label distributions are similar\n",
        "print('Label distribution in training dataset')\n",
        "print(train_labels.value_counts(normalize=True))\n",
        "\n",
        "print('Label distribution in test dataset')\n",
        "print(test_labels.value_counts(normalize=True))\n"
      ],
      "metadata": {
        "colab": {
          "base_uri": "https://localhost:8080/"
        },
        "id": "OOL1swEMjcJf",
        "outputId": "169e7405-2283-45b4-f96e-bf9aab526380"
      },
      "execution_count": 12,
      "outputs": [
        {
          "output_type": "stream",
          "name": "stdout",
          "text": [
            "Label distribution in training dataset\n",
            "Target\n",
            "Y         0.705128\n",
            "N         0.294872\n",
            "dtype: float64\n",
            "Label distribution in test dataset\n",
            "Target\n",
            "Y         0.708861\n",
            "N         0.291139\n",
            "dtype: float64\n"
          ]
        }
      ]
    },
    {
      "cell_type": "markdown",
      "source": [
        "## 2. Data cleaning\n",
        "\n",
        "(If you want to check again the EDA steps, check the notebook from week 2.)\n"
      ],
      "metadata": {
        "id": "khtJhtCkjrcQ"
      }
    },
    {
      "cell_type": "code",
      "source": [
        "# Data cleaning steps:\n",
        "# 1. replace 'yes' with 'Yes' for 'self_employed'\n",
        "# remember that .loc is a way to access a subset of the dataframe\n",
        "# We can write df.loc[condition_A, condition_B] where condition_A determines\n",
        "# which rows we select and condition_B determines which columns we select\n",
        "train_dataset.loc[train_dataset.Self_Employed=='no','Self_Employed'] = 'No'\n",
        "test_dataset.loc[test_dataset.Self_Employed=='no','Self_Employed'] = 'No'\n",
        "\n",
        "# 2. replace negative loan amount values with NaN\n",
        "# (we use np.nan because that's how the other missing values are represented in this dataset)\n",
        "train_dataset.loc[train_dataset.LoanAmount<0,'LoanAmount'] = np.nan\n",
        "test_dataset.loc[test_dataset.LoanAmount<0,'LoanAmount'] = np.nan\n",
        "\n",
        "# 3. replace out of scope Property_Area values with NaN\n",
        "accepted_property_areas = ['Urban','Rural','Semiurban']\n",
        "# remember the lambda notation: it is an anonymous function that lets us specificy\n",
        "# a given (and easy) transformation for its input (in this case, x)\n",
        "train_dataset.loc[train_dataset.Property_Area.map(lambda x: x not in accepted_property_areas),'Property_Area'] = np.nan\n",
        "test_dataset.loc[test_dataset.Property_Area.map(lambda x: x not in accepted_property_areas),'Property_Area'] = np.nan\n"
      ],
      "metadata": {
        "id": "M9qMNvvBjis8"
      },
      "execution_count": 13,
      "outputs": []
    },
    {
      "cell_type": "code",
      "source": [
        "from sklearn.preprocessing import LabelEncoder\n",
        "\n",
        "# create an object of the LabelEncoder class\n",
        "lblEncoder_Y = LabelEncoder()\n",
        "\n",
        "# apply LblEncoder object to our target variables\n",
        "train_encoded_labels = lblEncoder_Y.fit_transform(train_labels['Target'])\n",
        "print(train_encoded_labels)\n",
        "\n",
        "# apply label encoder to test data\n",
        "test_encoded_labels = lblEncoder_Y.transform(test_labels['Target'])\n"
      ],
      "metadata": {
        "colab": {
          "base_uri": "https://localhost:8080/"
        },
        "id": "X-Wl7aqZjpHp",
        "outputId": "610526ff-5993-463b-ecf1-cedffbcbf5c1"
      },
      "execution_count": 14,
      "outputs": [
        {
          "output_type": "stream",
          "name": "stdout",
          "text": [
            "[1 1 1 1 0 0 0 1 0 0 1 1 1 0 0 1 0 0 1 1 1 1 0 0 0 1 0 0 1 0 0 0 1 1 1 0 1\n",
            " 1 0 0 1 0 1 0 1 0 0 0 0 1 1 0 1 1 1 1 0 0 1 1 1 1 1 0 1 1 1 1 1 0 0 1 1 1\n",
            " 1 1 1 1 0 1 1 1 1 1 1 1 0 0 1 1 1 0 0 0 1 0 0 1 1 0 1 1 0 1 0 1 0 1 1 1 1\n",
            " 1 1 1 1 1 0 1 0 1 1 1 0 0 1 1 1 1 1 1 1 1 1 1 0 1 1 1 1 0 0 1 1 1 0 1 0 1\n",
            " 1 1 1 1 0 1 0 0 1 1 1 1 1 1 1 1 0 1 1 1 0 0 1 1 1 1 1 1 1 1 0 1 1 0 1 1 1\n",
            " 1 1 1 1 1 1 1 0 1 0 1 1 0 1 1 1 0 0 1 0 1 1 1 0 1 1 0 1 0 0 1 0 1 0 1 1 1\n",
            " 1 1 1 0 1 0 0 1 1 1 1 1 1 1 1 1 0 1 0 1 1 1 1 1 1 1 0 0 1 1 1 1 1 1 1 0 1\n",
            " 0 1 1 1 0 1 1 1 1 1 1 1 1 1 1 1 1 1 1 1 0 1 0 1 1 1 1 1 1 1 0 1 1 1 0 1 0\n",
            " 1 0 1 0 1 1 1 1 1 0 0 1 1 1 1 1]\n"
          ]
        }
      ]
    },
    {
      "cell_type": "markdown",
      "source": [
        "Scikit-learn pipeline"
      ],
      "metadata": {
        "id": "LFN72sflDt26"
      }
    },
    {
      "cell_type": "code",
      "source": [
        "train_dataset.isna().sum()"
      ],
      "metadata": {
        "id": "zPMoEHymlPtk",
        "colab": {
          "base_uri": "https://localhost:8080/"
        },
        "outputId": "6de81709-14ae-4791-9620-15c630f8704f"
      },
      "execution_count": 15,
      "outputs": [
        {
          "output_type": "execute_result",
          "data": {
            "text/plain": [
              "Loan_ID              0\n",
              "Gender               0\n",
              "Married              1\n",
              "Dependents           0\n",
              "Education            0\n",
              "Self_Employed        0\n",
              "ApplicantIncome      2\n",
              "CoapplicantIncome    1\n",
              "LoanAmount           3\n",
              "Loan_Amount_Term     1\n",
              "Credit_History       1\n",
              "Property_Area        3\n",
              "dtype: int64"
            ]
          },
          "metadata": {},
          "execution_count": 15
        }
      ]
    },
    {
      "cell_type": "code",
      "source": [
        "# split the columns into the right type\n",
        "numerical_columns = ['ApplicantIncome', 'CoapplicantIncome',\n",
        "                'LoanAmount', 'Loan_Amount_Term', 'Credit_History']\n",
        "\n",
        "categorical_columns= ['Gender', 'Married', 'Dependents', 'Education',\n",
        "       'Self_Employed', 'Property_Area']\n"
      ],
      "metadata": {
        "id": "KciRsK9gDzFD"
      },
      "execution_count": 16,
      "outputs": []
    },
    {
      "cell_type": "markdown",
      "source": [
        "Applying pipelines with Column Transformer.\n",
        "\n",
        "First, note that in this case we want to process numerical and categorical columns in two completely different ways. Specifically:\n",
        "\n",
        "For numerical columns, we want to impute missing values using the median and then normalize the data to have 0 mean and unit standard deviation.\n",
        "For categorical columns, we want to impute missing values using the most common category and then encode using One Hot Encoding.\n",
        "These are basically two parallel pipelines applied to disjoint sets of columns.\n",
        "\n",
        "So, we can define each pipeline separately and then apply it to the correct subset of columns!\n",
        "\n",
        "Note the difference from week 3: we're doing everything with way fewer lines of code while still keeping all the flexibility as before!"
      ],
      "metadata": {
        "id": "IgrSP6HKEDDp"
      }
    },
    {
      "cell_type": "code",
      "source": [
        "# Create the two pipelines\n",
        "\n",
        "# Numerical Features\n",
        "# concatenate missing value imputation and standardization for numerical features\n",
        "numeric_transformer = Pipeline(\n",
        "    steps=[(\"num_imputer\", SimpleImputer(strategy=\"median\")),\n",
        "           (\"scaler\", StandardScaler()),\n",
        "           ]\n",
        ")\n",
        "\n",
        "# Categorical Features\n",
        "# concatenate missing value imputation and onehot encoding for categorical features\n",
        "categorical_transformer = Pipeline(\n",
        "    steps=[\n",
        "        ('cat_imputer', SimpleImputer(strategy='most_frequent')),\n",
        "        (\"encoder\", OneHotEncoder(handle_unknown=\"ignore\")),\n",
        "    ]\n",
        ")\n",
        "\n",
        "# ColumnTransformer takes a list of transformations. Each transformation is expressed\n",
        "# as a tuple (name, transformer, columns).\n",
        "# We transform categorical columns and numerical columns using the two different pipelines we defined above\n",
        "preprocessor = ColumnTransformer(\n",
        "    transformers=[\n",
        "        (\"num\", # --> name of the transformation\n",
        "         numeric_transformer, # --> main function to apply\n",
        "         numerical_columns  #-->columns to apply it to (we can give more than one column at once!)\n",
        "         ),\n",
        "        (\"cat\", categorical_transformer, categorical_columns),\n",
        "    ],\n",
        "    remainder = \"passthrough\",\n",
        "    verbose_feature_names_out=False,\n",
        ")\n",
        "\n"
      ],
      "metadata": {
        "id": "lJGA27CpD6Cc"
      },
      "execution_count": 17,
      "outputs": []
    },
    {
      "cell_type": "code",
      "source": [
        "# Let's put all together into a pipeline, adding the classifier as well\n",
        "preprocess_ = Pipeline(\n",
        "        steps=[(\"preprocessor\", preprocessor),\n",
        "               #('ann', ANN())\n",
        "        ]\n",
        "    )"
      ],
      "metadata": {
        "id": "zSN89f4GETwK"
      },
      "execution_count": 18,
      "outputs": []
    },
    {
      "cell_type": "code",
      "source": [
        "# Fit and apply preprocessing pipeline\n",
        "# NOTE: we don't want to use the Loan ID though, since it's just an identifier for each\n",
        "# row, it doesn't carry any information about the output\n",
        "preprocessor.fit(train_dataset.drop(columns=['Loan_ID']))\n",
        "# training data\n",
        "X_train_preprocessed = preprocessor.transform(train_dataset.drop(columns=['Loan_ID']))\n",
        "# testing data\n",
        "X_test_preprocessed= preprocessor.transform(test_dataset.drop(columns=['Loan_ID']))\n"
      ],
      "metadata": {
        "id": "PVdJC2m1EZZN"
      },
      "execution_count": 19,
      "outputs": []
    },
    {
      "cell_type": "code",
      "source": [
        "print(train_dataset.shape)\n",
        "print(X_train_preprocessed.shape)"
      ],
      "metadata": {
        "colab": {
          "base_uri": "https://localhost:8080/"
        },
        "id": "Y_7hIbxiEeqn",
        "outputId": "a999a0a6-ba19-4afc-cccd-e46401c41e13"
      },
      "execution_count": 20,
      "outputs": [
        {
          "output_type": "stream",
          "name": "stdout",
          "text": [
            "(312, 12)\n",
            "(312, 21)\n"
          ]
        }
      ]
    },
    {
      "cell_type": "code",
      "source": [
        "X_train_preprocessed[0, :]"
      ],
      "metadata": {
        "colab": {
          "base_uri": "https://localhost:8080/"
        },
        "id": "njrUXGbgEvtJ",
        "outputId": "692f2241-1fdc-4a8c-f7f7-5a0be70e48aa"
      },
      "execution_count": 21,
      "outputs": [
        {
          "output_type": "execute_result",
          "data": {
            "text/plain": [
              "array([ 1.70654585, -0.60285306, -0.60738702,  0.28003072,  0.42113951,\n",
              "        0.        ,  1.        ,  0.        ,  0.        ,  1.        ,\n",
              "        1.        ,  0.        ,  0.        ,  0.        ,  1.        ,\n",
              "        0.        ,  1.        ,  0.        ,  0.        ,  1.        ,\n",
              "        0.        ])"
            ]
          },
          "metadata": {},
          "execution_count": 21
        }
      ]
    },
    {
      "cell_type": "code",
      "source": [
        "print(preprocessor.transformers_[1][1]['encoder'].get_feature_names_out())\n",
        "\n",
        "print(preprocessor.transformers_[0][1]['scaler'].get_feature_names_out())\n"
      ],
      "metadata": {
        "colab": {
          "base_uri": "https://localhost:8080/"
        },
        "id": "k3qPOy7ZEyST",
        "outputId": "7bc0f3d3-9787-4608-c3e6-f2f50366777f"
      },
      "execution_count": 22,
      "outputs": [
        {
          "output_type": "stream",
          "name": "stdout",
          "text": [
            "['x0_Female' 'x0_Male' 'x0_other' 'x1_No' 'x1_Yes' 'x2_0' 'x2_1' 'x2_2'\n",
            " 'x2_3+' 'x3_Graduate' 'x3_Not Graduate' 'x4_No' 'x4_Yes' 'x5_Rural'\n",
            " 'x5_Semiurban' 'x5_Urban']\n",
            "['x0' 'x1' 'x2' 'x3' 'x4']\n"
          ]
        }
      ]
    },
    {
      "cell_type": "markdown",
      "source": [
        "Modelling"
      ],
      "metadata": {
        "id": "MvrnFd14FOu0"
      }
    },
    {
      "cell_type": "markdown",
      "source": [
        "Build ANN"
      ],
      "metadata": {
        "id": "_x9ttX_RFVfv"
      }
    },
    {
      "cell_type": "code",
      "source": [
        "import tensorflow as tf\n",
        "from tensorflow.keras import datasets, layers, models\n",
        "\n",
        "# create a simple model with ONE hidden layer only\n",
        "model = models.Sequential()\n",
        "# we will create a hidden layer with 20 nodes.\n",
        "hidden_layer_nodes = 20\n",
        "num_of_input_features = X_train_preprocessed.shape[1] #number of features = number of columns in the input matrix\n",
        "\n",
        "# We can specify an input layer to tell Keras what input to expect.\n",
        "# we tell Keras how many features to expect for each datapoint. This way Keras\n",
        "# knows how many weights are needed between the input and the first hidden layer\n",
        "model.add(layers.Input(shape=(num_of_input_features,)))\n",
        "model.add(layers.Dense(hidden_layer_nodes, activation='relu'))\n",
        "model.add(layers.Dense(1, activation='sigmoid')) #is it clear why here we use \"sigmoid\" and use \"softmax\" for multi-class problems?\n",
        "\n",
        "# as metric we choose the accuracy: the total number of correct predictions made\n",
        "# Adam is a typical choice for an optimizer and tends to perform well in practice\n",
        "# the most typical choice for the loss function is the binary cross entropy since\n",
        "# we are solving a binary classification task. If we were solving a multi-class classification\n",
        "# task, we'd choose the categorical cross entropy (that is, the more general version)\n",
        "learning_rate = 0.001\n",
        "model.compile(optimizer=tf.keras.optimizers.Adam(learning_rate=learning_rate),\n",
        "              loss=tf.keras.losses.BinaryCrossentropy(), #we use this function for BINARY CLASSIFICATION\n",
        "              metrics=['accuracy'])\n",
        "\n",
        "# let's print a summary of the model to see what it's like\n",
        "print(model.summary())"
      ],
      "metadata": {
        "colab": {
          "base_uri": "https://localhost:8080/"
        },
        "id": "nSoUWK49E2a5",
        "outputId": "15714b92-660a-42e9-d938-10c2c739663e"
      },
      "execution_count": 23,
      "outputs": [
        {
          "output_type": "stream",
          "name": "stdout",
          "text": [
            "Model: \"sequential\"\n",
            "_________________________________________________________________\n",
            " Layer (type)                Output Shape              Param #   \n",
            "=================================================================\n",
            " dense (Dense)               (None, 20)                440       \n",
            "                                                                 \n",
            " dense_1 (Dense)             (None, 1)                 21        \n",
            "                                                                 \n",
            "=================================================================\n",
            "Total params: 461\n",
            "Trainable params: 461\n",
            "Non-trainable params: 0\n",
            "_________________________________________________________________\n",
            "None\n"
          ]
        }
      ]
    },
    {
      "cell_type": "markdown",
      "source": [
        "Data imbalance"
      ],
      "metadata": {
        "id": "Egiv4ACoFj3g"
      }
    },
    {
      "cell_type": "code",
      "source": [
        "# compute class weights to counteract data imbalance\n",
        "from sklearn.utils import class_weight\n",
        "class_weights = class_weight.compute_class_weight(\n",
        "    class_weight= \"balanced\",\n",
        "    classes = np.unique(train_encoded_labels),\n",
        "    y = train_encoded_labels)\n",
        "\n",
        "# we turn the weights into a dictionary\n",
        "class_weights = dict(zip(np.unique(train_encoded_labels), class_weights))\n",
        "\n",
        "# Let's print the results\n",
        "# note that encoded label 0 corresponds to the original label 'N': there are fewer instances of 'N' so this class is given a higher weight in the loss function\n",
        "print(class_weights)\n"
      ],
      "metadata": {
        "colab": {
          "base_uri": "https://localhost:8080/"
        },
        "id": "G3zG2lGPFcpo",
        "outputId": "9c062e39-6d8e-4b11-eef4-0fc8934e99f6"
      },
      "execution_count": 24,
      "outputs": [
        {
          "output_type": "stream",
          "name": "stdout",
          "text": [
            "{0: 1.6956521739130435, 1: 0.7090909090909091}\n"
          ]
        }
      ]
    },
    {
      "cell_type": "markdown",
      "source": [
        "Model training"
      ],
      "metadata": {
        "id": "Jnw3qo2cH2mE"
      }
    },
    {
      "cell_type": "code",
      "source": [
        "# Training\n",
        "# let's define some relevant hyper-parameters:\n",
        "batch_size = 130 # The batch size indicates how many data points we use to compute each update to the parameters of the models (based on the gradient of the loss)\n",
        "epochs = 50 #how long we train the model for\n",
        "validation_split = 0.2  #Fraction of the training data to be used as validation data.\n",
        "history = model.fit(X_train_preprocessed,\n",
        "                    train_encoded_labels,\n",
        "                    epochs=epochs,\n",
        "                    batch_size=batch_size,\n",
        "                    validation_split= validation_split,\n",
        "                    class_weight= class_weights,\n",
        "                    )\n",
        "# note that the output variable \"history\" keeps track of the model performance at each epoch\n"
      ],
      "metadata": {
        "colab": {
          "base_uri": "https://localhost:8080/"
        },
        "id": "TehPgJ5BFnVO",
        "outputId": "1d221029-1f0c-4654-9771-aacab7590d71"
      },
      "execution_count": 25,
      "outputs": [
        {
          "output_type": "stream",
          "name": "stdout",
          "text": [
            "Epoch 1/50\n",
            "2/2 [==============================] - 3s 887ms/step - loss: 0.9281 - accuracy: 0.6787 - val_loss: 0.5957 - val_accuracy: 0.7778\n",
            "Epoch 2/50\n",
            "2/2 [==============================] - 0s 106ms/step - loss: 0.9122 - accuracy: 0.6747 - val_loss: 0.5968 - val_accuracy: 0.7778\n",
            "Epoch 3/50\n",
            "2/2 [==============================] - 0s 171ms/step - loss: 0.8975 - accuracy: 0.6747 - val_loss: 0.5982 - val_accuracy: 0.7778\n",
            "Epoch 4/50\n",
            "2/2 [==============================] - 0s 69ms/step - loss: 0.8841 - accuracy: 0.6707 - val_loss: 0.5996 - val_accuracy: 0.7619\n",
            "Epoch 5/50\n",
            "2/2 [==============================] - 0s 95ms/step - loss: 0.8712 - accuracy: 0.6707 - val_loss: 0.6012 - val_accuracy: 0.7619\n",
            "Epoch 6/50\n",
            "2/2 [==============================] - 0s 63ms/step - loss: 0.8582 - accuracy: 0.6586 - val_loss: 0.6030 - val_accuracy: 0.7619\n",
            "Epoch 7/50\n",
            "2/2 [==============================] - 0s 64ms/step - loss: 0.8453 - accuracy: 0.6667 - val_loss: 0.6050 - val_accuracy: 0.7460\n",
            "Epoch 8/50\n",
            "2/2 [==============================] - 0s 90ms/step - loss: 0.8340 - accuracy: 0.6627 - val_loss: 0.6071 - val_accuracy: 0.7460\n",
            "Epoch 9/50\n",
            "2/2 [==============================] - 0s 92ms/step - loss: 0.8235 - accuracy: 0.6667 - val_loss: 0.6093 - val_accuracy: 0.7460\n",
            "Epoch 10/50\n",
            "2/2 [==============================] - 0s 68ms/step - loss: 0.8119 - accuracy: 0.6667 - val_loss: 0.6115 - val_accuracy: 0.7302\n",
            "Epoch 11/50\n",
            "2/2 [==============================] - 0s 38ms/step - loss: 0.8024 - accuracy: 0.6747 - val_loss: 0.6137 - val_accuracy: 0.7302\n",
            "Epoch 12/50\n",
            "2/2 [==============================] - 0s 35ms/step - loss: 0.7930 - accuracy: 0.6667 - val_loss: 0.6159 - val_accuracy: 0.7302\n",
            "Epoch 13/50\n",
            "2/2 [==============================] - 0s 33ms/step - loss: 0.7838 - accuracy: 0.6747 - val_loss: 0.6180 - val_accuracy: 0.7460\n",
            "Epoch 14/50\n",
            "2/2 [==============================] - 0s 31ms/step - loss: 0.7744 - accuracy: 0.6747 - val_loss: 0.6198 - val_accuracy: 0.7460\n",
            "Epoch 15/50\n",
            "2/2 [==============================] - 0s 56ms/step - loss: 0.7668 - accuracy: 0.6627 - val_loss: 0.6218 - val_accuracy: 0.7460\n",
            "Epoch 16/50\n",
            "2/2 [==============================] - 0s 35ms/step - loss: 0.7587 - accuracy: 0.6787 - val_loss: 0.6237 - val_accuracy: 0.7460\n",
            "Epoch 17/50\n",
            "2/2 [==============================] - 0s 38ms/step - loss: 0.7503 - accuracy: 0.6787 - val_loss: 0.6254 - val_accuracy: 0.7302\n",
            "Epoch 18/50\n",
            "2/2 [==============================] - 0s 53ms/step - loss: 0.7442 - accuracy: 0.6787 - val_loss: 0.6274 - val_accuracy: 0.6984\n",
            "Epoch 19/50\n",
            "2/2 [==============================] - 0s 51ms/step - loss: 0.7376 - accuracy: 0.6747 - val_loss: 0.6292 - val_accuracy: 0.6984\n",
            "Epoch 20/50\n",
            "2/2 [==============================] - 0s 34ms/step - loss: 0.7301 - accuracy: 0.6747 - val_loss: 0.6306 - val_accuracy: 0.6825\n",
            "Epoch 21/50\n",
            "2/2 [==============================] - 0s 37ms/step - loss: 0.7245 - accuracy: 0.6787 - val_loss: 0.6322 - val_accuracy: 0.6667\n",
            "Epoch 22/50\n",
            "2/2 [==============================] - 0s 34ms/step - loss: 0.7181 - accuracy: 0.6747 - val_loss: 0.6336 - val_accuracy: 0.6667\n",
            "Epoch 23/50\n",
            "2/2 [==============================] - 0s 45ms/step - loss: 0.7131 - accuracy: 0.6667 - val_loss: 0.6350 - val_accuracy: 0.6508\n",
            "Epoch 24/50\n",
            "2/2 [==============================] - 0s 35ms/step - loss: 0.7074 - accuracy: 0.6787 - val_loss: 0.6360 - val_accuracy: 0.6667\n",
            "Epoch 25/50\n",
            "2/2 [==============================] - 0s 33ms/step - loss: 0.7022 - accuracy: 0.6747 - val_loss: 0.6371 - val_accuracy: 0.6984\n",
            "Epoch 26/50\n",
            "2/2 [==============================] - 0s 36ms/step - loss: 0.6961 - accuracy: 0.6747 - val_loss: 0.6377 - val_accuracy: 0.6825\n",
            "Epoch 27/50\n",
            "2/2 [==============================] - 0s 38ms/step - loss: 0.6914 - accuracy: 0.6787 - val_loss: 0.6382 - val_accuracy: 0.6984\n",
            "Epoch 28/50\n",
            "2/2 [==============================] - 0s 42ms/step - loss: 0.6869 - accuracy: 0.6827 - val_loss: 0.6390 - val_accuracy: 0.7143\n",
            "Epoch 29/50\n",
            "2/2 [==============================] - 0s 32ms/step - loss: 0.6824 - accuracy: 0.6908 - val_loss: 0.6393 - val_accuracy: 0.7143\n",
            "Epoch 30/50\n",
            "2/2 [==============================] - 0s 33ms/step - loss: 0.6771 - accuracy: 0.6908 - val_loss: 0.6395 - val_accuracy: 0.7143\n",
            "Epoch 31/50\n",
            "2/2 [==============================] - 0s 32ms/step - loss: 0.6732 - accuracy: 0.6908 - val_loss: 0.6396 - val_accuracy: 0.7143\n",
            "Epoch 32/50\n",
            "2/2 [==============================] - 0s 38ms/step - loss: 0.6690 - accuracy: 0.6908 - val_loss: 0.6395 - val_accuracy: 0.6984\n",
            "Epoch 33/50\n",
            "2/2 [==============================] - 0s 33ms/step - loss: 0.6650 - accuracy: 0.6908 - val_loss: 0.6396 - val_accuracy: 0.6825\n",
            "Epoch 34/50\n",
            "2/2 [==============================] - 0s 35ms/step - loss: 0.6602 - accuracy: 0.6827 - val_loss: 0.6393 - val_accuracy: 0.6825\n",
            "Epoch 35/50\n",
            "2/2 [==============================] - 0s 31ms/step - loss: 0.6562 - accuracy: 0.6867 - val_loss: 0.6387 - val_accuracy: 0.6667\n",
            "Epoch 36/50\n",
            "2/2 [==============================] - 0s 57ms/step - loss: 0.6526 - accuracy: 0.6787 - val_loss: 0.6379 - val_accuracy: 0.6825\n",
            "Epoch 37/50\n",
            "2/2 [==============================] - 0s 37ms/step - loss: 0.6489 - accuracy: 0.6827 - val_loss: 0.6371 - val_accuracy: 0.6825\n",
            "Epoch 38/50\n",
            "2/2 [==============================] - 0s 33ms/step - loss: 0.6446 - accuracy: 0.6787 - val_loss: 0.6360 - val_accuracy: 0.6825\n",
            "Epoch 39/50\n",
            "2/2 [==============================] - 0s 37ms/step - loss: 0.6412 - accuracy: 0.6787 - val_loss: 0.6350 - val_accuracy: 0.6825\n",
            "Epoch 40/50\n",
            "2/2 [==============================] - 0s 31ms/step - loss: 0.6378 - accuracy: 0.6867 - val_loss: 0.6339 - val_accuracy: 0.6825\n",
            "Epoch 41/50\n",
            "2/2 [==============================] - 0s 33ms/step - loss: 0.6342 - accuracy: 0.6867 - val_loss: 0.6324 - val_accuracy: 0.6825\n",
            "Epoch 42/50\n",
            "2/2 [==============================] - 0s 32ms/step - loss: 0.6310 - accuracy: 0.6867 - val_loss: 0.6311 - val_accuracy: 0.6825\n",
            "Epoch 43/50\n",
            "2/2 [==============================] - 0s 31ms/step - loss: 0.6273 - accuracy: 0.6948 - val_loss: 0.6292 - val_accuracy: 0.6825\n",
            "Epoch 44/50\n",
            "2/2 [==============================] - 0s 32ms/step - loss: 0.6245 - accuracy: 0.6948 - val_loss: 0.6274 - val_accuracy: 0.6825\n",
            "Epoch 45/50\n",
            "2/2 [==============================] - 0s 50ms/step - loss: 0.6212 - accuracy: 0.6948 - val_loss: 0.6256 - val_accuracy: 0.6984\n",
            "Epoch 46/50\n",
            "2/2 [==============================] - 0s 31ms/step - loss: 0.6182 - accuracy: 0.6948 - val_loss: 0.6235 - val_accuracy: 0.6984\n",
            "Epoch 47/50\n",
            "2/2 [==============================] - 0s 34ms/step - loss: 0.6155 - accuracy: 0.7028 - val_loss: 0.6217 - val_accuracy: 0.6984\n",
            "Epoch 48/50\n",
            "2/2 [==============================] - 0s 34ms/step - loss: 0.6124 - accuracy: 0.7068 - val_loss: 0.6196 - val_accuracy: 0.6984\n",
            "Epoch 49/50\n",
            "2/2 [==============================] - 0s 31ms/step - loss: 0.6098 - accuracy: 0.7149 - val_loss: 0.6176 - val_accuracy: 0.6984\n",
            "Epoch 50/50\n",
            "2/2 [==============================] - 0s 31ms/step - loss: 0.6071 - accuracy: 0.7229 - val_loss: 0.6154 - val_accuracy: 0.7143\n"
          ]
        }
      ]
    },
    {
      "cell_type": "markdown",
      "source": [
        "### Evaluation\n",
        "\n",
        "We can see if and how the network improved during training, using the performance metrics on both the training and the validation data."
      ],
      "metadata": {
        "id": "QWPIqzwoIZVs"
      }
    },
    {
      "cell_type": "code",
      "source": [
        "# let's see what's within the 'history' variable\n",
        "history.history.keys()"
      ],
      "metadata": {
        "colab": {
          "base_uri": "https://localhost:8080/"
        },
        "id": "9r_hi4n3IKIq",
        "outputId": "92a07a12-ed9f-4710-d045-fd348737b91a"
      },
      "execution_count": 26,
      "outputs": [
        {
          "output_type": "execute_result",
          "data": {
            "text/plain": [
              "dict_keys(['loss', 'accuracy', 'val_loss', 'val_accuracy'])"
            ]
          },
          "metadata": {},
          "execution_count": 26
        }
      ]
    },
    {
      "cell_type": "code",
      "source": [
        "# Plot training curves for both training and validation data\n",
        "# loss per epoch\n",
        "plt.figure()\n",
        "plt.plot(history.history['loss'], label='train_loss')\n",
        "plt.plot(history.history['val_loss'], label = 'val_loss')\n",
        "plt.xlabel('Epoch')\n",
        "plt.ylabel('Loss (binary cross-entropy)')\n",
        "plt.legend(loc='lower right')\n",
        "\n",
        "#accuracy per epoch\n",
        "plt.figure()\n",
        "plt.plot(history.history['accuracy'], label='train_accuracy')\n",
        "plt.plot(history.history['val_accuracy'], label = 'val_accuracy')\n",
        "plt.xlabel('Epoch')\n",
        "plt.ylabel('Accuracy')\n",
        "plt.legend(loc='lower right')\n"
      ],
      "metadata": {
        "colab": {
          "base_uri": "https://localhost:8080/",
          "height": 899
        },
        "id": "rThLBx0rIdlQ",
        "outputId": "69090159-883d-4302-c9c7-a2b677f5ae4b"
      },
      "execution_count": 27,
      "outputs": [
        {
          "output_type": "execute_result",
          "data": {
            "text/plain": [
              "<matplotlib.legend.Legend at 0x7f3aac6423b0>"
            ]
          },
          "metadata": {},
          "execution_count": 27
        },
        {
          "output_type": "display_data",
          "data": {
            "text/plain": [
              "<Figure size 640x480 with 1 Axes>"
            ],
            "image/png": "[encoded data removed]"
          },
          "metadata": {}
        },
        {
          "output_type": "display_data",
          "data": {
            "text/plain": [
              "<Figure size 640x480 with 1 Axes>"
            ],
            "image/png": "[encoded data removed]"
          },
          "metadata": {}
        }
      ]
    },
    {
      "cell_type": "markdown",
      "source": [
        "Then, we can compute the prediction and the final metrics on the test dataset."
      ],
      "metadata": {
        "id": "NM88ihiVItom"
      }
    },
    {
      "cell_type": "code",
      "source": [
        "from sklearn.metrics import confusion_matrix, ConfusionMatrixDisplay, classification_report\n",
        "from sklearn.metrics import balanced_accuracy_score\n",
        "\n",
        "# Check performance on test data\n",
        "test_probabilities = model.predict(X_test_preprocessed)\n",
        "# There is a small difference from scikit-learn when we call .predict()\n",
        "# Keras returns the *class probabilities* rather than the predictions\n",
        "# For a binary classification problem, this is the probability that a data point\n",
        "# belongs to class 1.\n",
        "# So, to get the class we apply a threshold of 0.5: if the probability of being in\n",
        "# class 1 is higher than 0.5 we assign that data point to class 1, otherwise to\n",
        "# class 0. This is done by the following line:\n",
        "test_predictions = test_probabilities > .5\n",
        "\n",
        "# let's show the classification report with all the metrics\n",
        "# think about which metrics you think are the most important ones for this problem!\n",
        "print(classification_report(test_encoded_labels,test_predictions,\n",
        "                            target_names= lblEncoder_Y.classes_)) # this is to give the real categories, not their encoded numbers\n",
        "\n",
        "# let's also print the balanced accuracy score, since we know the dataset is not balanced\n",
        "print(f'The balanced accuracy score is {balanced_accuracy_score(test_encoded_labels,test_predictions):.3f}\\n')\n",
        "\n",
        "# let's get all the numbers for the confusion matrix\n",
        "cm = confusion_matrix(test_encoded_labels,test_predictions)#,\n",
        "#                      labels= lblEncoder_Y.classes_) # this is to give the real categories, not their encoded numbers\n",
        "\n",
        "# let's show the confusion matrix in a plot\n",
        "disp = ConfusionMatrixDisplay(confusion_matrix=cm,\n",
        "                               display_labels= lblEncoder_Y.classes_) # this is to give the real categories, not their encoded numbers\n",
        "disp.plot()\n",
        "plt.show()\n"
      ],
      "metadata": {
        "colab": {
          "base_uri": "https://localhost:8080/",
          "height": 669
        },
        "id": "KFXNPwd7IiZw",
        "outputId": "a7ec8737-2adf-4525-d75c-427d19eb9cb8"
      },
      "execution_count": 28,
      "outputs": [
        {
          "output_type": "stream",
          "name": "stdout",
          "text": [
            "3/3 [==============================] - 0s 4ms/step\n",
            "              precision    recall  f1-score   support\n",
            "\n",
            "           N       0.43      0.52      0.47        23\n",
            "           Y       0.78      0.71      0.75        56\n",
            "\n",
            "    accuracy                           0.66        79\n",
            "   macro avg       0.61      0.62      0.61        79\n",
            "weighted avg       0.68      0.66      0.67        79\n",
            "\n",
            "The balanced accuracy score is 0.618\n",
            "\n"
          ]
        },
        {
          "output_type": "display_data",
          "data": {
            "text/plain": [
              "<Figure size 640x480 with 2 Axes>"
            ],
            "image/png": "[encoded data removed]"
          },
          "metadata": {}
        }
      ]
    },
    {
      "cell_type": "code",
      "source": [
        "model = models.Sequential()\n",
        "hidden_layer_nodes = 20\n",
        "num_of_input_features = X_train_preprocessed.shape[1]\n",
        "dropout_rate= 0.2 #0.2 is usually a good number to start with\n",
        "\n",
        "model.add(layers.Dense(hidden_layer_nodes, input_dim=num_of_input_features, activation='relu'))\n",
        "model.add(layers.Dropout(rate=dropout_rate)\n",
        "model.add(layers.Dense(1, activation='sigmoid'))"
      ],
      "metadata": {
        "colab": {
          "base_uri": "https://localhost:8080/",
          "height": 133
        },
        "id": "KCw6DSqMIzKS",
        "outputId": "d624cd87-c452-412c-e1db-0569022c0def"
      },
      "execution_count": 29,
      "outputs": [
        {
          "output_type": "error",
          "ename": "SyntaxError",
          "evalue": "ignored",
          "traceback": [
            "\u001b[0;36m  File \u001b[0;32m\"<ipython-input-29-a4d65232b39d>\"\u001b[0;36m, line \u001b[0;32m7\u001b[0m\n\u001b[0;31m    model.add(layers.Dropout(rate=dropout_rate)\u001b[0m\n\u001b[0m             ^\u001b[0m\n\u001b[0;31mSyntaxError\u001b[0m\u001b[0;31m:\u001b[0m '(' was never closed\n"
          ]
        }
      ]
    },
    {
      "cell_type": "code",
      "source": [
        "### YOUR CODE HERE (OR MODIFY ABOVE) ####\n",
        "from sklearn.metrics import accuracy_score\n",
        "model = models.Sequential()\n",
        "hidden_layer_nodes = 20\n",
        "num_of_input_features = X_train_preprocessed.shape[1]\n",
        "dropout_rate= 0.2 #0.2 is usually a good number to start with\n",
        "\n",
        "model.add(layers.Dense(hidden_layer_nodes, input_dim=num_of_input_features, activation='relu'))\n",
        "model.add(layers.Dropout(rate=dropout_rate)\n",
        "model.add(layers.Dense(1, activation='sigmoid'))\n",
        "# For example, let's compute and visualize how the accuracy changes with different learning rates\n",
        "\n",
        "# First, recreate the model.\n",
        "# We'll wrap the different stages into a function, since then it's easier to play with the parameters\n",
        "\n",
        "def create_model_single_hidden(n_hidden=20, num_of_input_features= X_train_preprocessed.shape[1]):\n",
        "    model = models.Sequential()\n",
        "    model.add(layers.Input(shape=(num_of_input_features,))\n",
        "    model.add(layers.Dense(n_hidden, activation='relu'))\n",
        "    model.add(layers.Dense(1, activation='sigmoid'))\n",
        "\n",
        "    return model\n",
        "\n",
        "def model_compile_and_training(model, X_train_preprocessed, train_encoded_labels, #test_dataset_no_nans, test_encoded_labels,\n",
        "                               optimizer_name = 'Adam', learning_rate= 0.001,\n",
        "                               n_epochs= 50, batch_size=256,\n",
        "                               validation_split= 0.2):\n",
        "    if optimizer_name== 'Adam':\n",
        "        optimizer = tf.keras.optimizers.Adam(learning_rate= learning_rate)\n",
        "\n",
        "    # as metric we choose the accuracy: the total number of correct predictions made\n",
        "    model.compile(optimizer=optimizer,\n",
        "              loss=tf.keras.losses.BinaryCrossentropy(),\n",
        "              metrics=['accuracy'])\n",
        "\n",
        "    #print(model.summary())\n",
        "\n",
        "    # Training\n",
        "    validation_split = 0.2  #Fraction of the training data to be used as validation data.\n",
        "    history = model.fit(X_train_preprocessed,\n",
        "                    train_encoded_labels,\n",
        "                    epochs=n_epochs,\n",
        "                    batch_size=batch_size,\n",
        "                    validation_split= validation_split,\n",
        "                    verbose=0, #this avoids getting lots of output\n",
        "                    )\n",
        "    return model, history\n",
        "\n",
        "\n",
        "l_rates = [0.00001, 0.0001, 0.001, 0.01, 0.05]\n",
        "final_accuracies_train = []\n",
        "final_accuracies_val = []\n",
        "final_accuracies_test = []\n",
        "for i, l_rate in enumerate(l_rates):\n",
        "    model = create_model_single_hidden()\n",
        "\n",
        "    model, history = model_compile_and_training(model, X_train_preprocessed, train_encoded_labels,\n",
        "                               learning_rate= l_rate)\n",
        "\n",
        "    final_accuracies_train.append(history.history['accuracy'][-1])\n",
        "    final_accuracies_val.append(history.history['val_accuracy'][-1])\n",
        "    # predict the test labels and save the accuracy score\n",
        "    test_probabilities = model.predict(X_test_preprocessed)\n",
        "    test_predictions = test_probabilities > .5\n",
        "    final_accuracies_test.append(accuracy_score(test_encoded_labels,test_predictions))\n"
      ],
      "metadata": {
        "colab": {
          "base_uri": "https://localhost:8080/",
          "height": 133
        },
        "id": "i9R13Z09XRFQ",
        "outputId": "deec51c3-f565-484e-cf32-1df192d6b732"
      },
      "execution_count": 31,
      "outputs": [
        {
          "output_type": "error",
          "ename": "SyntaxError",
          "evalue": "ignored",
          "traceback": [
            "\u001b[0;36m  File \u001b[0;32m\"<ipython-input-31-196b8d580d56>\"\u001b[0;36m, line \u001b[0;32m9\u001b[0m\n\u001b[0;31m    model.add(layers.Dropout(rate=dropout_rate)\u001b[0m\n\u001b[0m              ^\u001b[0m\n\u001b[0;31mSyntaxError\u001b[0m\u001b[0;31m:\u001b[0m invalid syntax. Perhaps you forgot a comma?\n"
          ]
        }
      ]
    },
    {
      "cell_type": "code",
      "source": [],
      "metadata": {
        "id": "MS6u5qLNX7Va"
      },
      "execution_count": null,
      "outputs": []
    }
  ]
}